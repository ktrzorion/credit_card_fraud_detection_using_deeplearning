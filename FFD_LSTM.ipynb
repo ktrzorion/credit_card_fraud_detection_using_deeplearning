{
 "cells": [
  {
   "cell_type": "code",
   "execution_count": 1,
   "id": "0284ca41",
   "metadata": {},
   "outputs": [],
   "source": [
    "import pandas as pd\n",
    "import numpy as np\n",
    "import tensorflow as tf\n",
    "import matplotlib.pyplot as plt\n",
    "from keras.models import Sequential\n",
    "from keras.layers import LSTM, Dense\n",
    "from sklearn.preprocessing import StandardScaler, LabelEncoder\n",
    "from sklearn.model_selection import train_test_split"
   ]
  },
  {
   "cell_type": "code",
   "execution_count": 2,
   "id": "f9c4ae6b",
   "metadata": {},
   "outputs": [],
   "source": [
    "data = pd.read_csv('card_transdata.csv')"
   ]
  },
  {
   "cell_type": "code",
   "execution_count": 3,
   "id": "7cfb456c",
   "metadata": {},
   "outputs": [],
   "source": [
    "scaler = StandardScaler()\n",
    "numeric_features = ['distance_from_home', 'distance_from_last_transaction', 'ratio_to_median_purchase_price', 'repeat_retailer', 'used_chip', 'used_pin_number', 'online_order']\n",
    "data[numeric_features] = scaler.fit_transform(data[numeric_features])\n",
    "encoder = LabelEncoder()\n",
    "data['fraud'] = encoder.fit_transform(data['fraud'])"
   ]
  },
  {
   "cell_type": "code",
   "execution_count": 4,
   "id": "9eb6f1dc",
   "metadata": {},
   "outputs": [],
   "source": [
    "x = data.drop('fraud', axis=1)\n",
    "y = data['fraud']\n",
    "x_train, x_test, y_train, y_test = train_test_split(x, y, test_size=0.2, random_state=42)"
   ]
  },
  {
   "cell_type": "code",
   "execution_count": 19,
   "id": "747f84eb",
   "metadata": {},
   "outputs": [],
   "source": [
    "model = Sequential()\n",
    "model.add(LSTM(units=64, input_shape=(x_train.shape[1], 1)))\n",
    "model.add(Dense(units=1, activation='sigmoid'))"
   ]
  },
  {
   "cell_type": "code",
   "execution_count": 20,
   "id": "18cd94e2",
   "metadata": {},
   "outputs": [],
   "source": [
    "model.compile(loss='binary_crossentropy', optimizer='adam', metrics = ['accuracy'])"
   ]
  },
  {
   "cell_type": "code",
   "execution_count": 21,
   "id": "1b586cfa",
   "metadata": {},
   "outputs": [
    {
     "name": "stdout",
     "output_type": "stream",
     "text": [
      "(800000, 7)\n",
      "(200000, 7)\n"
     ]
    }
   ],
   "source": [
    "print(x_train.shape)\n",
    "print(x_test.shape)"
   ]
  },
  {
   "cell_type": "code",
   "execution_count": 22,
   "id": "9c3dd1da",
   "metadata": {},
   "outputs": [
    {
     "name": "stdout",
     "output_type": "stream",
     "text": [
      "Epoch 1/10\n",
      "12500/12500 [==============================] - 68s 5ms/step - loss: 0.0225 - accuracy: 0.9913 - val_loss: 0.0095 - val_accuracy: 0.9959\n",
      "Epoch 2/10\n",
      "12500/12500 [==============================] - 54s 4ms/step - loss: 0.0064 - accuracy: 0.9974 - val_loss: 0.0059 - val_accuracy: 0.9975\n",
      "Epoch 3/10\n",
      "12500/12500 [==============================] - 54s 4ms/step - loss: 0.0051 - accuracy: 0.9978 - val_loss: 0.0098 - val_accuracy: 0.9959\n",
      "Epoch 4/10\n",
      "12500/12500 [==============================] - 54s 4ms/step - loss: 0.0045 - accuracy: 0.9981 - val_loss: 0.0052 - val_accuracy: 0.9977\n",
      "Epoch 5/10\n",
      "12500/12500 [==============================] - 54s 4ms/step - loss: 0.0039 - accuracy: 0.9984 - val_loss: 0.0034 - val_accuracy: 0.9984\n",
      "Epoch 6/10\n",
      "12500/12500 [==============================] - 53s 4ms/step - loss: 0.0035 - accuracy: 0.9986 - val_loss: 0.0024 - val_accuracy: 0.9991\n",
      "Epoch 7/10\n",
      "12500/12500 [==============================] - 53s 4ms/step - loss: 0.0033 - accuracy: 0.9986 - val_loss: 0.0024 - val_accuracy: 0.9990\n",
      "Epoch 8/10\n",
      "12500/12500 [==============================] - 58s 5ms/step - loss: 0.0030 - accuracy: 0.9988 - val_loss: 0.0056 - val_accuracy: 0.9977\n",
      "Epoch 9/10\n",
      "12500/12500 [==============================] - 61s 5ms/step - loss: 0.0028 - accuracy: 0.9989 - val_loss: 0.0026 - val_accuracy: 0.9989\n",
      "Epoch 10/10\n",
      "12500/12500 [==============================] - 58s 5ms/step - loss: 0.0026 - accuracy: 0.9989 - val_loss: 0.0019 - val_accuracy: 0.9993\n"
     ]
    }
   ],
   "source": [
    "# x_train = np.reshape(x_train, (x_train.shape[0], x_train.shape[1], 1))\n",
    "# x_test = np.reshape(x_test, (x_test.shape[0], x_test.shape[1], 1))\n",
    "history = model.fit(x_train, y_train, epochs=10, batch_size=64, validation_data=(x_test, y_test))"
   ]
  },
  {
   "cell_type": "code",
   "execution_count": 23,
   "id": "86e09759",
   "metadata": {},
   "outputs": [
    {
     "name": "stdout",
     "output_type": "stream",
     "text": [
      "6250/6250 [==============================] - 15s 2ms/step - loss: 0.0019 - accuracy: 0.9993\n",
      "Test loss: 0.0019232103368267417\n",
      "Test accuracy: 0.9992650151252747\n"
     ]
    }
   ],
   "source": [
    "loss, accuracy = model.evaluate(x_test, y_test)\n",
    "print('Test loss:', loss)\n",
    "print('Test accuracy:', accuracy)"
   ]
  },
  {
   "cell_type": "code",
   "execution_count": 24,
   "id": "55c41dd7",
   "metadata": {},
   "outputs": [
    {
     "name": "stdout",
     "output_type": "stream",
     "text": [
      "(800000, 7)\n",
      "(200000, 7)\n"
     ]
    }
   ],
   "source": [
    "print(x_train.shape)\n",
    "print(x_test.shape)"
   ]
  },
  {
   "cell_type": "code",
   "execution_count": null,
   "id": "32ab36af",
   "metadata": {},
   "outputs": [],
   "source": []
  }
 ],
 "metadata": {
  "kernelspec": {
   "display_name": "Python 3 (ipykernel)",
   "language": "python",
   "name": "python3"
  },
  "language_info": {
   "codemirror_mode": {
    "name": "ipython",
    "version": 3
   },
   "file_extension": ".py",
   "mimetype": "text/x-python",
   "name": "python",
   "nbconvert_exporter": "python",
   "pygments_lexer": "ipython3",
   "version": "3.10.9"
  }
 },
 "nbformat": 4,
 "nbformat_minor": 5
}
